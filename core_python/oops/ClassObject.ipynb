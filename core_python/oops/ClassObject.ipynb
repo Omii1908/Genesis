{
 "cells": [
  {
   "cell_type": "code",
   "execution_count": 1,
   "id": "2bbebdda",
   "metadata": {},
   "outputs": [
    {
     "name": "stdout",
     "output_type": "stream",
     "text": [
      "<__main__.Car object at 0x00000167CE6C5E80>\n",
      "<__main__.Car object at 0x00000167CE800BC0>\n"
     ]
    }
   ],
   "source": [
    "##Class is blue print for creating object.\n",
    "\n",
    "class Car :\n",
    "    pass\n",
    "\n",
    "audi = Car()\n",
    "bmw = Car()\n",
    "\n",
    "print(audi)\n",
    "print(bmw)"
   ]
  },
  {
   "cell_type": "code",
   "execution_count": 2,
   "id": "30206078",
   "metadata": {},
   "outputs": [
    {
     "name": "stdout",
     "output_type": "stream",
     "text": [
      "4\n"
     ]
    }
   ],
   "source": [
    "audi.windows = 4    #attribute\n",
    "\n",
    "print(audi.windows)"
   ]
  },
  {
   "cell_type": "code",
   "execution_count": 3,
   "id": "d5c1c229",
   "metadata": {},
   "outputs": [
    {
     "data": {
      "text/plain": [
       "['__class__',\n",
       " '__delattr__',\n",
       " '__dict__',\n",
       " '__dir__',\n",
       " '__doc__',\n",
       " '__eq__',\n",
       " '__format__',\n",
       " '__ge__',\n",
       " '__getattribute__',\n",
       " '__getstate__',\n",
       " '__gt__',\n",
       " '__hash__',\n",
       " '__init__',\n",
       " '__init_subclass__',\n",
       " '__le__',\n",
       " '__lt__',\n",
       " '__module__',\n",
       " '__ne__',\n",
       " '__new__',\n",
       " '__reduce__',\n",
       " '__reduce_ex__',\n",
       " '__repr__',\n",
       " '__setattr__',\n",
       " '__sizeof__',\n",
       " '__str__',\n",
       " '__subclasshook__',\n",
       " '__weakref__',\n",
       " 'windows']"
      ]
     },
     "execution_count": 3,
     "metadata": {},
     "output_type": "execute_result"
    }
   ],
   "source": [
    "dir(audi)"
   ]
  },
  {
   "cell_type": "code",
   "execution_count": 7,
   "id": "29dab60c",
   "metadata": {},
   "outputs": [
    {
     "name": "stdout",
     "output_type": "stream",
     "text": [
      "Bob\n",
      "2\n",
      "<__main__.Dog object at 0x00000167CE698D10>\n"
     ]
    }
   ],
   "source": [
    "##instance variable and methods\n",
    "\n",
    "class Dog :\n",
    "\n",
    "    ## constructor\n",
    "    def __init__(self, name, age):\n",
    "        self.name = name\n",
    "        self.age = age\n",
    "\n",
    "## Creating object\n",
    "dog1 = Dog(\"Bob\", 2)\n",
    "print(dog1.name)\n",
    "print(dog1.age)\n",
    "print(dog1)"
   ]
  },
  {
   "cell_type": "code",
   "execution_count": 8,
   "id": "0521d906",
   "metadata": {},
   "outputs": [
    {
     "name": "stdout",
     "output_type": "stream",
     "text": [
      "Lucy\n",
      "4\n",
      "<__main__.Dog object at 0x00000167CE8375F0>\n"
     ]
    }
   ],
   "source": [
    "dog2 = Dog(\"Lucy\", 4)\n",
    "print(dog2.name)\n",
    "print(dog2.age)\n",
    "print(dog2)"
   ]
  },
  {
   "cell_type": "code",
   "execution_count": 9,
   "id": "9e10ff10",
   "metadata": {},
   "outputs": [
    {
     "name": "stdout",
     "output_type": "stream",
     "text": [
      "Bob says woof!!\n",
      "Lucy says woof!!\n"
     ]
    }
   ],
   "source": [
    "## deffine a class with instance method\n",
    "\n",
    "class Dog :\n",
    "\n",
    "    def __init__(self, name, age):\n",
    "        self.name = name\n",
    "        self.age = age\n",
    "\n",
    "    def bark(self):\n",
    "        print(f'{self.name} says woof!!')\n",
    "\n",
    "dog1 = Dog(\"Bob\", 2)\n",
    "dog1.bark()\n",
    "dog2 = Dog(\"Lucy\", 3)\n",
    "dog2.bark()\n"
   ]
  },
  {
   "cell_type": "code",
   "execution_count": 10,
   "id": "38ff9ceb",
   "metadata": {},
   "outputs": [],
   "source": [
    "### Modelling a bank account\n",
    "\n",
    "class BankAccount :\n",
    "    def __init__(self, owner, balance):\n",
    "        self.owner = owner\n",
    "        self.balance = balance\n",
    "\n",
    "    def deposit(self,amount):\n",
    "        self.balance += amount\n",
    "        print(f\"{amount} is deposited. \\nNew Balance is {self.balance}\")\n",
    "    \n",
    "    def withdraw(self, amount):\n",
    "        if amount > self.balance:\n",
    "            print(\"Amount is insufficient!!\")\n",
    "        else:\n",
    "            self.balance -= amount\n",
    "            print(f\"{amount} is withdrawn. \\nNew Balance is {self.balance}\")\n",
    "        \n",
    "    def get_balance(self):\n",
    "        return self.balance\n",
    "    \n",
    "\n",
    "account1 = BankAccount('Om', 21000)"
   ]
  },
  {
   "cell_type": "code",
   "execution_count": 12,
   "id": "98541374",
   "metadata": {},
   "outputs": [
    {
     "name": "stdout",
     "output_type": "stream",
     "text": [
      "200 is deposited. \n",
      "New Balance is 21200\n"
     ]
    }
   ],
   "source": [
    "account1.deposit(200)"
   ]
  },
  {
   "cell_type": "code",
   "execution_count": 13,
   "id": "41e0b1cb",
   "metadata": {},
   "outputs": [
    {
     "name": "stdout",
     "output_type": "stream",
     "text": [
      "300 is withdrawn. \n",
      "New Balance is 20900\n"
     ]
    }
   ],
   "source": [
    "account1.withdraw(300)"
   ]
  },
  {
   "cell_type": "code",
   "execution_count": 14,
   "id": "1e5a5e31",
   "metadata": {},
   "outputs": [
    {
     "name": "stdout",
     "output_type": "stream",
     "text": [
      "Amount is insufficient!!\n"
     ]
    }
   ],
   "source": [
    "account1.withdraw(21300)"
   ]
  },
  {
   "cell_type": "code",
   "execution_count": 15,
   "id": "bfaca8c2",
   "metadata": {},
   "outputs": [
    {
     "data": {
      "text/plain": [
       "20900"
      ]
     },
     "execution_count": 15,
     "metadata": {},
     "output_type": "execute_result"
    }
   ],
   "source": [
    "account1.get_balance()"
   ]
  },
  {
   "cell_type": "code",
   "execution_count": null,
   "id": "092b16b2",
   "metadata": {},
   "outputs": [],
   "source": []
  }
 ],
 "metadata": {
  "kernelspec": {
   "display_name": "base",
   "language": "python",
   "name": "python3"
  },
  "language_info": {
   "codemirror_mode": {
    "name": "ipython",
    "version": 3
   },
   "file_extension": ".py",
   "mimetype": "text/x-python",
   "name": "python",
   "nbconvert_exporter": "python",
   "pygments_lexer": "ipython3",
   "version": "3.12.7"
  }
 },
 "nbformat": 4,
 "nbformat_minor": 5
}
