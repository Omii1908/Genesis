{
 "cells": [
  {
   "cell_type": "markdown",
   "id": "9dd5b875",
   "metadata": {},
   "source": [
    "### Abstraction\n",
    "\n",
    "Concept of hiding the complex implementation details and showing only the necessary feature of the object. Helps in reducing the programming complexity and efforts."
   ]
  },
  {
   "cell_type": "code",
   "execution_count": 2,
   "id": "692bda9e",
   "metadata": {},
   "outputs": [
    {
     "name": "stdout",
     "output_type": "stream",
     "text": [
      "The vehicle is used for driving.\n",
      "Car engine started!!\n",
      "The vehicle is used for driving.\n",
      "Motorcycle engine started!!\n"
     ]
    }
   ],
   "source": [
    "from abc import ABC, abstractmethod\n",
    "\n",
    "## define an abstract class\n",
    "class Vehicle(ABC):\n",
    "    def drive(self):\n",
    "        print(\"The vehicle is used for driving.\")\n",
    "\n",
    "    @abstractmethod\n",
    "    def start_engine(self):\n",
    "        pass\n",
    "\n",
    "## derived class-1\n",
    "class Car(Vehicle):\n",
    "    def start_engine(self):\n",
    "        print(\"Car engine started!!\")\n",
    "    \n",
    "## derived class-2\n",
    "class Motorcycle(Vehicle):\n",
    "    def start_engine(self):\n",
    "        print(\"Motorcycle engine started!!\")\n",
    "    \n",
    "\n",
    "## function to demonstrate polymorphism\n",
    "def start_vehicle(vehicle):\n",
    "    vehicle.drive()\n",
    "    vehicle.start_engine()\n",
    "\n",
    "car = Car()\n",
    "motorcycle = Motorcycle()\n",
    "\n",
    "start_vehicle(car)\n",
    "start_vehicle(motorcycle)"
   ]
  }
 ],
 "metadata": {
  "kernelspec": {
   "display_name": "base",
   "language": "python",
   "name": "python3"
  },
  "language_info": {
   "codemirror_mode": {
    "name": "ipython",
    "version": 3
   },
   "file_extension": ".py",
   "mimetype": "text/x-python",
   "name": "python",
   "nbconvert_exporter": "python",
   "pygments_lexer": "ipython3",
   "version": "3.12.7"
  }
 },
 "nbformat": 4,
 "nbformat_minor": 5
}
