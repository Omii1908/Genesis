{
 "cells": [
  {
   "cell_type": "code",
   "execution_count": null,
   "id": "4b171be4",
   "metadata": {},
   "outputs": [],
   "source": [
    "## Inheritance\n",
    "\n",
    "## Parent class\n",
    "class Car :\n",
    "    def __init__(self, windows, doors, enginetype):\n",
    "        self.windows = windows\n",
    "        self.doors = doors\n",
    "        self.enginetype = enginetype\n",
    "\n",
    "    def drive(self):\n",
    "        print(f\"The person will drive the {self.enginetype} car.\")"
   ]
  },
  {
   "cell_type": "code",
   "execution_count": 4,
   "id": "3ff022ea",
   "metadata": {},
   "outputs": [
    {
     "name": "stdout",
     "output_type": "stream",
     "text": [
      "The person will drive the petrol car.\n",
      "None\n"
     ]
    }
   ],
   "source": [
    "car1 = Car(4,5,\"petrol\")\n",
    "print(car1.drive())"
   ]
  },
  {
   "cell_type": "code",
   "execution_count": null,
   "id": "26db4cdd",
   "metadata": {},
   "outputs": [],
   "source": [
    "## Inheriting the parent class (Single Inheritance)\n",
    "class Tesla (Car):\n",
    "    def __init__(self, windows, doors, enginetype, is_selfdriving):\n",
    "        ## catching desired attribute from single parent class\n",
    "        super().__init__(windows, doors, enginetype)\n",
    "        self.is_selddriving = is_selfdriving\n",
    "\n",
    "    def selfdriving(self):\n",
    "        print(f\"Tesla support selfdriving {self.is_selddriving}\")"
   ]
  },
  {
   "cell_type": "code",
   "execution_count": 8,
   "id": "b7d49241",
   "metadata": {},
   "outputs": [
    {
     "name": "stdout",
     "output_type": "stream",
     "text": [
      "The person will drive the electric car.\n",
      "Tesla support selfdriving True\n"
     ]
    }
   ],
   "source": [
    "tesla1 = Tesla(2,4,\"electric\", True)\n",
    "tesla1.drive()\n",
    "tesla1.selfdriving()"
   ]
  },
  {
   "cell_type": "code",
   "execution_count": 12,
   "id": "ab9f30a5",
   "metadata": {},
   "outputs": [],
   "source": [
    "### Multiple Inheritance\n",
    "\n",
    "## base class-1\n",
    "class Animal :\n",
    "    def __init__(self, name):\n",
    "        self.name = name\n",
    "\n",
    "    def speak(self):\n",
    "        print(\"Subclass must implement this method.\")\n",
    "\n",
    "## base class-2\n",
    "class Pet:\n",
    "    def __init__(self, owner):\n",
    "        self.owner = owner\n",
    "\n",
    "## Derived class\n",
    "class Dog(Animal, Pet):\n",
    "    def __init__(self, name, owner):\n",
    "        ## collecting attributes from multiple parent class\n",
    "        Animal.__init__(self,name)\n",
    "        Pet.__init__(self, owner)\n",
    "\n",
    "    def speak(self):\n",
    "        return f\"{self.name} say woof!!\"\n",
    "    "
   ]
  },
  {
   "cell_type": "code",
   "execution_count": 14,
   "id": "831019fa",
   "metadata": {},
   "outputs": [
    {
     "name": "stdout",
     "output_type": "stream",
     "text": [
      "Lucy say woof!!\n",
      "Owner : Om\n"
     ]
    }
   ],
   "source": [
    "## Create an object\n",
    "dog = Dog(\"Lucy\", \"Om\")\n",
    "print(dog.speak())\n",
    "print(f\"Owner : {dog.owner}\")"
   ]
  }
 ],
 "metadata": {
  "kernelspec": {
   "display_name": "base",
   "language": "python",
   "name": "python3"
  },
  "language_info": {
   "codemirror_mode": {
    "name": "ipython",
    "version": 3
   },
   "file_extension": ".py",
   "mimetype": "text/x-python",
   "name": "python",
   "nbconvert_exporter": "python",
   "pygments_lexer": "ipython3",
   "version": "3.12.7"
  }
 },
 "nbformat": 4,
 "nbformat_minor": 5
}
