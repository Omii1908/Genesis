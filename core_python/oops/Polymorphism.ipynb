{
 "cells": [
  {
   "cell_type": "markdown",
   "id": "53897b60",
   "metadata": {},
   "source": [
    "### Polymorphism\n",
    "\n",
    "provides a way to perform a single action in different formats. It is typically achieved through method overriding and interfaces."
   ]
  },
  {
   "cell_type": "markdown",
   "id": "19955465",
   "metadata": {},
   "source": [
    "### Method Overriding\n",
    "\n",
    "allows a child class to provide a specific implementation of a method that is already defined in its parent class."
   ]
  },
  {
   "cell_type": "code",
   "execution_count": 2,
   "id": "c03bda9c",
   "metadata": {},
   "outputs": [
    {
     "name": "stdout",
     "output_type": "stream",
     "text": [
      "Sound of the animal\n",
      "Woof!!\n",
      "Meow!!\n",
      "Woof!!\n"
     ]
    }
   ],
   "source": [
    "## base class\n",
    "class Animal :\n",
    "    def speak(self):\n",
    "        return \"Sound of the animal\"\n",
    "\n",
    "## Derived class-1\n",
    "class Dog(Animal):\n",
    "    def speak(self):\n",
    "        return \"Woof!!\"\n",
    "    \n",
    "## Derived class-2\n",
    "class Cat(Animal):\n",
    "    def speak(self):\n",
    "        return \"Meow!!\"\n",
    "    \n",
    "## Function to demonstrates polymorphism\n",
    "def animal_speak(animal):\n",
    "    print(animal.speak())\n",
    "    \n",
    "animal = Animal()\n",
    "dog = Dog()\n",
    "cat = Cat()\n",
    "print(animal.speak())\n",
    "print(dog.speak())\n",
    "print(cat.speak())\n",
    "\n",
    "\n",
    "animal_speak(dog)"
   ]
  },
  {
   "cell_type": "code",
   "execution_count": 3,
   "id": "5e4e9099",
   "metadata": {},
   "outputs": [
    {
     "name": "stdout",
     "output_type": "stream",
     "text": [
      "The area is 32\n",
      "The area is 96.02402600000002\n"
     ]
    }
   ],
   "source": [
    "### Polymorphism with function & methods\n",
    "\n",
    "## base class\n",
    "class Shape:\n",
    "    def area(self):\n",
    "        return \"The area of the figure!!\"\n",
    "    \n",
    "## derived class-1\n",
    "class Rectangle(Shape):\n",
    "    def __init__(self, width, height):\n",
    "        self.width = width\n",
    "        self.height = height\n",
    "\n",
    "    def area(self):\n",
    "        return self.height * self.width\n",
    "    \n",
    "## derived class-2\n",
    "class Circle(Shape):\n",
    "    def __init__(self, radius):\n",
    "        self.radius = radius\n",
    "\n",
    "    def area(self):\n",
    "        return 3.14*self.radius**2\n",
    "    \n",
    "## function that demonstrate polymorphism\n",
    "def display_area(shape):\n",
    "    print(f\"The area is {shape.area()}\")\n",
    "\n",
    "\n",
    "rectangle = Rectangle(4,8)\n",
    "circle = Circle(5.53)\n",
    "\n",
    "display_area(rectangle)\n",
    "display_area(circle)"
   ]
  },
  {
   "cell_type": "markdown",
   "id": "99457ffc",
   "metadata": {},
   "source": [
    "### Abstract Base Classes (ABCs)\n",
    "\n",
    "used to defined common methods for a group of related objects."
   ]
  },
  {
   "cell_type": "code",
   "execution_count": 4,
   "id": "3b1602e2",
   "metadata": {},
   "outputs": [
    {
     "name": "stdout",
     "output_type": "stream",
     "text": [
      "Car engine started!!\n",
      "Motorcycle engine started!!\n"
     ]
    }
   ],
   "source": [
    "from abc import ABC, abstractmethod\n",
    "\n",
    "## define an abstract class\n",
    "class Vehicle(ABC):\n",
    "    @abstractmethod\n",
    "    def start_engine(self):\n",
    "        pass\n",
    "\n",
    "## derived class-1\n",
    "class Car(Vehicle):\n",
    "    def start_engine(self):\n",
    "        return \"Car engine started!!\"\n",
    "    \n",
    "## derived class-2\n",
    "class Motorcycle(Vehicle):\n",
    "    def start_engine(self):\n",
    "        return \"Motorcycle engine started!!\"\n",
    "    \n",
    "\n",
    "## function to demonstrate polymorphism\n",
    "def start_vehicle(vehicle):\n",
    "    print(vehicle.start_engine())\n",
    "\n",
    "car = Car()\n",
    "motorcycle = Motorcycle()\n",
    "\n",
    "start_vehicle(car)\n",
    "start_vehicle(motorcycle)"
   ]
  }
 ],
 "metadata": {
  "kernelspec": {
   "display_name": "base",
   "language": "python",
   "name": "python3"
  },
  "language_info": {
   "codemirror_mode": {
    "name": "ipython",
    "version": 3
   },
   "file_extension": ".py",
   "mimetype": "text/x-python",
   "name": "python",
   "nbconvert_exporter": "python",
   "pygments_lexer": "ipython3",
   "version": "3.12.7"
  }
 },
 "nbformat": 4,
 "nbformat_minor": 5
}
