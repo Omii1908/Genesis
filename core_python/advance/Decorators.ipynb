{
 "cells": [
  {
   "cell_type": "code",
   "execution_count": 4,
   "id": "506e5707",
   "metadata": {},
   "outputs": [
    {
     "data": {
      "text/plain": [
       "'Welcome to the world of programming...'"
      ]
     },
     "execution_count": 4,
     "metadata": {},
     "output_type": "execute_result"
    }
   ],
   "source": [
    "## function copy\n",
    "def welcome():\n",
    "    return 'Welcome to the world of programming...'\n",
    "\n",
    "welcome()"
   ]
  },
  {
   "cell_type": "code",
   "execution_count": 6,
   "id": "2acaca1c",
   "metadata": {},
   "outputs": [
    {
     "name": "stdout",
     "output_type": "stream",
     "text": [
      "Welcome to the world of programming...\n",
      "Welcome to the world of programming...\n"
     ]
    }
   ],
   "source": [
    "wel = welcome()\n",
    "print(wel)\n",
    "del welcome\n",
    "print(wel)"
   ]
  },
  {
   "cell_type": "code",
   "execution_count": 8,
   "id": "1d5ce575",
   "metadata": {},
   "outputs": [
    {
     "name": "stdout",
     "output_type": "stream",
     "text": [
      "welcome to the advance python course\n",
      "welcome\n",
      "Please learn the concepts properly\n"
     ]
    }
   ],
   "source": [
    "## Closures(function inside function)\n",
    "\n",
    "def main_welcome():\n",
    "    msg = 'welcome'\n",
    "    def sub_welcome_method():\n",
    "        print(\"welcome to the advance python course\")\n",
    "        print(msg)   #can access everything from main function\n",
    "        print(\"Please learn the concepts properly\")\n",
    "\n",
    "    return sub_welcome_method()\n",
    "\n",
    "main_welcome()"
   ]
  },
  {
   "cell_type": "code",
   "execution_count": null,
   "id": "3ef2f5bc",
   "metadata": {},
   "outputs": [
    {
     "name": "stdout",
     "output_type": "stream",
     "text": [
      "welcome to the advance python course\n",
      "we are accessing the new domain of pyhton\n",
      "Please learn the concepts properly\n"
     ]
    }
   ],
   "source": [
    "## passing a function(build-in) in closure\n",
    "\n",
    "def main_welcome(func):\n",
    "    msg = 'welcome'\n",
    "    def sub_welcome_method():\n",
    "        print(\"welcome to the advance python course\")\n",
    "        func(\"we are accessing the new domain of pyhton\")   #observe carefully\n",
    "        print(\"Please learn the concepts properly\")\n",
    "\n",
    "    return sub_welcome_method()\n",
    "\n",
    "main_welcome(print)"
   ]
  },
  {
   "cell_type": "code",
   "execution_count": 14,
   "id": "f99865ec",
   "metadata": {},
   "outputs": [
    {
     "name": "stdout",
     "output_type": "stream",
     "text": [
      "welcome to the advance python course\n",
      "10\n",
      "Please learn the concepts properly\n"
     ]
    }
   ],
   "source": [
    "def main_welcome(func, lst):\n",
    "    msg = 'welcome'\n",
    "    def sub_welcome_method():\n",
    "        print(\"welcome to the advance python course\")\n",
    "        print(func(lst))   #observe carefully\n",
    "        print(\"Please learn the concepts properly\")\n",
    "\n",
    "    return sub_welcome_method()\n",
    "\n",
    "main_welcome(len, [1,2,3,4,5,6,7,8,9,0])"
   ]
  },
  {
   "cell_type": "code",
   "execution_count": 15,
   "id": "53f0ca27",
   "metadata": {},
   "outputs": [
    {
     "name": "stdout",
     "output_type": "stream",
     "text": [
      "welcome to the advance python course\n",
      "This is the introduction to the course.\n",
      "Please learn the concepts properly\n"
     ]
    }
   ],
   "source": [
    "## Decorators(just a manual one)\n",
    "def main_welcome(func):\n",
    "    msg = 'welcome'\n",
    "    def sub_welcome_method():\n",
    "        print(\"welcome to the advance python course\")\n",
    "        func()\n",
    "        print(\"Please learn the concepts properly\")\n",
    "\n",
    "    return sub_welcome_method()\n",
    "\n",
    "def course_introduction():\n",
    "    print(\"This is the introduction to the course.\")\n",
    "\n",
    "\n",
    "main_welcome(course_introduction)\n"
   ]
  },
  {
   "cell_type": "code",
   "execution_count": 16,
   "id": "7a33d8e4",
   "metadata": {},
   "outputs": [
    {
     "name": "stdout",
     "output_type": "stream",
     "text": [
      "welcome to the advance python course\n",
      "This is the introduction to the course.\n",
      "Please learn the concepts properly\n"
     ]
    }
   ],
   "source": [
    "## Observe carefully the how decorators are being used\n",
    "\n",
    "@main_welcome\n",
    "def course_introduction():\n",
    "    print(\"This is the introduction to the course.\")"
   ]
  },
  {
   "cell_type": "code",
   "execution_count": 17,
   "id": "943df069",
   "metadata": {},
   "outputs": [],
   "source": [
    "## Decorators with arguments\n",
    "\n",
    "def repeat(n):\n",
    "    def decorator(func):\n",
    "        def wrapper(*args, **kwargs):\n",
    "            for _ in range(n):\n",
    "                func(*args, **kwargs)\n",
    "        return wrapper\n",
    "    return decorator"
   ]
  },
  {
   "cell_type": "code",
   "execution_count": 18,
   "id": "7b1fd532",
   "metadata": {},
   "outputs": [
    {
     "name": "stdout",
     "output_type": "stream",
     "text": [
      "Hello\n",
      "Hello\n",
      "Hello\n"
     ]
    }
   ],
   "source": [
    "@repeat(3)\n",
    "def say_hello():\n",
    "    print(\"Hello\")\n",
    "\n",
    "say_hello()"
   ]
  }
 ],
 "metadata": {
  "kernelspec": {
   "display_name": "base",
   "language": "python",
   "name": "python3"
  },
  "language_info": {
   "codemirror_mode": {
    "name": "ipython",
    "version": 3
   },
   "file_extension": ".py",
   "mimetype": "text/x-python",
   "name": "python",
   "nbconvert_exporter": "python",
   "pygments_lexer": "ipython3",
   "version": "3.12.7"
  }
 },
 "nbformat": 4,
 "nbformat_minor": 5
}
