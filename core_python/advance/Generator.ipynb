{
 "cells": [
  {
   "cell_type": "markdown",
   "id": "a6b50d55",
   "metadata": {},
   "source": [
    "## Generator\n",
    "\n",
    "##Simplest way to create iterators.\n",
    "##use yield keyword to produce series of lazily(means they generate values on the fly and do not store them in memory)."
   ]
  },
  {
   "cell_type": "code",
   "execution_count": 1,
   "id": "7d3977d6",
   "metadata": {},
   "outputs": [],
   "source": [
    "def square(n):\n",
    "    for i in range(n):\n",
    "        yield i**2"
   ]
  },
  {
   "cell_type": "code",
   "execution_count": 2,
   "id": "abad2b28",
   "metadata": {},
   "outputs": [
    {
     "data": {
      "text/plain": [
       "<generator object square at 0x000001FFD34FB5E0>"
      ]
     },
     "execution_count": 2,
     "metadata": {},
     "output_type": "execute_result"
    }
   ],
   "source": [
    "square(10)"
   ]
  },
  {
   "cell_type": "code",
   "execution_count": 3,
   "id": "43aa6c3f",
   "metadata": {},
   "outputs": [
    {
     "name": "stdout",
     "output_type": "stream",
     "text": [
      "0\n",
      "1\n",
      "4\n",
      "9\n",
      "16\n",
      "25\n",
      "36\n",
      "49\n",
      "64\n",
      "81\n"
     ]
    }
   ],
   "source": [
    "for i in square(10):\n",
    "    print(i)"
   ]
  },
  {
   "cell_type": "code",
   "execution_count": 5,
   "id": "c4822560",
   "metadata": {},
   "outputs": [],
   "source": [
    "def my_generator():\n",
    "    yield 1\n",
    "    yield 2\n",
    "    yield 3"
   ]
  },
  {
   "cell_type": "code",
   "execution_count": 6,
   "id": "bc525f73",
   "metadata": {},
   "outputs": [
    {
     "data": {
      "text/plain": [
       "<generator object my_generator at 0x000001FFD36CECF0>"
      ]
     },
     "execution_count": 6,
     "metadata": {},
     "output_type": "execute_result"
    }
   ],
   "source": [
    "gen = my_generator()\n",
    "gen"
   ]
  },
  {
   "cell_type": "code",
   "execution_count": 7,
   "id": "0076824c",
   "metadata": {},
   "outputs": [
    {
     "data": {
      "text/plain": [
       "1"
      ]
     },
     "execution_count": 7,
     "metadata": {},
     "output_type": "execute_result"
    }
   ],
   "source": [
    "next(gen)"
   ]
  },
  {
   "cell_type": "code",
   "execution_count": 8,
   "id": "fcdd69ad",
   "metadata": {},
   "outputs": [
    {
     "data": {
      "text/plain": [
       "2"
      ]
     },
     "execution_count": 8,
     "metadata": {},
     "output_type": "execute_result"
    }
   ],
   "source": [
    "next(gen)"
   ]
  },
  {
   "cell_type": "code",
   "execution_count": 9,
   "id": "b4f82292",
   "metadata": {},
   "outputs": [
    {
     "data": {
      "text/plain": [
       "3"
      ]
     },
     "execution_count": 9,
     "metadata": {},
     "output_type": "execute_result"
    }
   ],
   "source": [
    "next(gen)"
   ]
  },
  {
   "cell_type": "code",
   "execution_count": 10,
   "id": "29109a9f",
   "metadata": {},
   "outputs": [
    {
     "ename": "StopIteration",
     "evalue": "",
     "output_type": "error",
     "traceback": [
      "\u001b[1;31m---------------------------------------------------------------------------\u001b[0m",
      "\u001b[1;31mStopIteration\u001b[0m                             Traceback (most recent call last)",
      "Cell \u001b[1;32mIn[10], line 1\u001b[0m\n\u001b[1;32m----> 1\u001b[0m \u001b[38;5;28mnext\u001b[39m(gen)\n",
      "\u001b[1;31mStopIteration\u001b[0m: "
     ]
    }
   ],
   "source": [
    "next(gen)"
   ]
  },
  {
   "cell_type": "markdown",
   "id": "51a82e63",
   "metadata": {},
   "source": [
    "Generator allow use to read large file because they allow you to process one line at a time without loading th entire file into memory"
   ]
  },
  {
   "cell_type": "code",
   "execution_count": 11,
   "id": "9ab4f543",
   "metadata": {},
   "outputs": [],
   "source": [
    "def read_large_file(file_path):\n",
    "    with open(file_path, 'r') as file:\n",
    "        for line in file:\n",
    "            yield line"
   ]
  },
  {
   "cell_type": "code",
   "execution_count": 12,
   "id": "1a4d4aa6",
   "metadata": {},
   "outputs": [
    {
     "name": "stdout",
     "output_type": "stream",
     "text": [
      "Lorem ipsum dolor sit amet, consectetur adipisicing elit. Fugiat quidem consequatur quasi porro dolore fuga sint aspernatur id illo et hic sed ut distinctio reiciendis est modi maiores expedita, debitis itaque libero suscipit nihil animi ducimus odit. Aliquid eos consequatur dolores perspiciatis unde dolorum saepe. Minus autem culpa tempore sed ab qui vitae impedit nesciunt ut dolorum, recusandae doloribus debitis non rem eius provident perferendis fugiat cupiditate voluptatem veniam similique veritatis aliquam pariatur? Saepe, ad? Debitis laudantium saepe amet molestiae hic fugit omnis error ipsam dicta ratione expedita velit dolore libero, vero, magnam recusandae, mollitia perferendis aspernatur eos. Optio quis accusantium sapiente iste? Adipisci iste dolorum aliquid et earum sint perspiciatis dicta, in odio nulla ut facilis nisi officiis totam impedit reprehenderit quia tempora inventore assumenda voluptatibus delectus tenetur. Numquam repudiandae repellendus sapiente assumenda nesciunt neque aut quis aliquid alias? Dignissimos vitae reprehenderit autem earum itaque ab provident quo harum ipsam aspernatur! Quis sit facere sed maiores ullam praesentium provident tenetur tempore odio itaque nulla officia dicta ex est blanditiis nemo labore aperiam veniam facilis, iusto quam deleniti. Enim vitae vel provident, nemo quaerat iste aspernatur unde atque tenetur? Sequi tempora accusamus a quibusdam eligendi quam veritatis labore, ducimus dolorem quaerat beatae, nobis harum? Ut natus ullam voluptatum. Accusamus vero sapiente cum illo odio consectetur minima id error, debitis obcaecati eveniet dolore eius neque quia fugit voluptatem voluptatum voluptas, nam, iusto saepe impedit. Consectetur mollitia error laboriosam asperiores eius similique nulla eos est quidem quis nesciunt voluptates nobis quod eum doloremque facilis suscipit voluptate et nihil, dolore vitae debitis? Expedita eos explicabo cum deleniti voluptate? Adipisci assumenda eveniet incidunt libero voluptatem sed, explicabo deserunt. Alias repudiandae voluptates fugiat, iste accusantium illo ipsam at natus non deserunt numquam, eum possimus beatae, laborum iure reprehenderit officiis? Dolor temporibus nam molestias voluptatibus asperiores impedit a ad repellat amet facilis sequi numquam quaerat sit culpa unde accusamus assumenda dolorum provident, saepe dignissimos? Libero eum tempora, necessitatibus deserunt, sint iste ab iusto doloribus rerum animi sapiente fugit, officiis consequuntur accusamus. Modi est vitae exercitationem itaque voluptatum tempora sequi nesciunt eveniet minus tenetur dicta fugit quo perferendis iure adipisci enim delectus inventore placeat, culpa excepturi? Vel blanditiis minima voluptatibus, provident expedita dolores magnam quia ipsam animi facilis officia accusamus placeat fugiat rerum, temporibus totam ratione tempora architecto! Numquam repellat voluptate minus labore dolorem nihil similique reiciendis optio, laborum soluta vel molestias dolore dignissimos ipsum vitae. Quia sunt quisquam provident, fugit beatae itaque mollitia, ad non incidunt quis error quidem, earum doloribus! Aspernatur sit fugit pariatur labore, vitae molestiae, quibusdam placeat veniam ullam qui cum inventore porro, laborum sapiente expedita at. Minima quam nulla nesciunt eaque odit magni, adipisci numquam impedit corrupti deserunt voluptates quo nemo quibusdam, nihil aliquid quisquam iure accusamus architecto, facilis quis tenetur perferendis suscipit! Nostrum saepe vero itaque esse consectetur ex minima voluptate sapiente suscipit asperiores maiores ipsa, deserunt unde magni nesciunt nobis eius autem nulla voluptas quia, consequuntur vel sint? Laborum modi ipsa vitae unde reprehenderit maiores enim dignissimos aspernatur accusamus ipsum? Ipsum, illo laudantium a magnam deserunt, eius, expedita maiores deleniti explicabo voluptatibus dolor. Reprehenderit veritatis facere perspiciatis corporis modi consectetur, inventore quis itaque dignissimos nisi eius autem nulla ducimus, magni cumque explicabo maxime cupiditate, ipsam placeat cum amet assumenda velit ex vitae! Aliquid laboriosam expedita quae tenetur atque suscipit sed culpa officia ullam ipsam nesciunt, veniam commodi maiores eos odio voluptatibus sequi dignissimos aperiam? Sed optio ratione perferendis fugit minus dolor numquam mollitia commodi sit, temporibus sint in repudiandae laudantium totam architecto consequatur? Architecto suscipit voluptatibus blanditiis tempora saepe esse id nostrum provident accusamus ipsa consequuntur non placeat, dolore nam nesciunt sit quibusdam. Veritatis nihil laboriosam nostrum magni aspernatur architecto inventore repellat accusamus ut provident nesciunt, earum deleniti aut quia iste nam deserunt dolores, maiores cupiditate quis corrupti! Atque, in debitis rem repellat numquam illum tempore veritatis perferendis eaque. Facilis non at repellat sit reprehenderit nulla, perferendis nam amet, eum nesciunt laboriosam repudiandae. Saepe ut ipsa voluptate, nisi itaque incidunt quasi rerum ullam modi consectetur repellat eligendi, deserunt quod illo blanditiis eveniet expedita corporis totam! Fuga impedit deleniti ducimus, iusto quia commodi suscipit sapiente illo consequatur accusamus nostrum a eos eius amet aliquid quae vel blanditiis necessitatibus quas deserunt voluptate dolore cupiditate eum architecto. Voluptates, necessitatibus laboriosam! Ullam quae autem recusandae laborum necessitatibus, aliquam modi ea debitis, officiis ipsa eum optio exercitationem dolorem temporibus obcaecati nesciunt natus nihil. Id ratione, laborum consectetur est placeat inventore tempora earum error labore rem ducimus cupiditate non deserunt ipsum reprehenderit blanditiis dignissimos commodi fugit nisi eligendi voluptas deleniti facilis possimus eaque. Exercitationem delectus similique totam odit autem quia placeat, facere provident perferendis eos fugiat velit asperiores doloremque repellendus corrupti eius beatae inventore natus perspiciatis cum! Obcaecati aspernatur eos dolorem eius, deserunt alias harum iste vitae, aperiam architecto, amet impedit. Harum ipsum ex incidunt quasi corporis ut quam iusto, molestias quae sed dignissimos suscipit, quod eveniet? Doloribus, officia ratione. Facilis ab porro ad architecto deleniti, dicta sint ratione quasi molestiae laudantium expedita natus consequuntur aut odit minima consectetur eaque vero impedit laborum dolore. Ex impedit consequatur eligendi, modi assumenda dolores, alias non, optio aspernatur illo magnam magni. Porro inventore officia iste quam quidem dolorem itaque nemo ipsam saepe, voluptates eaque perferendis a rem labore harum accusamus ea aut. Vero illo quibusdam nihil repellendus amet. Non perspiciatis hic ipsum voluptate fuga. Accusantium libero natus, quod, atque tenetur veritatis a quibusdam fugiat odit repellendus iusto temporibus quia velit labore nisi exercitationem ad earum eaque? Saepe, debitis. Eligendi, rem, ratione aspernatur repudiandae ullam dolorem est nostrum autem delectus, voluptatibus vero dolor numquam quod pariatur facilis explicabo et. Vel perferendis minus modi minima quae aspernatur culpa dignissimos voluptatum doloribus enim nostrum maiores voluptatem, temporibus quo consequuntur pariatur sunt a. Ex reprehenderit neque laborum sunt, eos et, quod iusto inventore illo error temporibus architecto tempora porro quo delectus blanditiis. Numquam blanditiis quaerat, deserunt, assumenda ratione sequi libero hic perferendis rerum consectetur necessitatibus adipisci suscipit, quos cumque quisquam ullam quis. Voluptatibus quis itaque quas perferendis voluptates explicabo, error officiis est voluptas?\n"
     ]
    }
   ],
   "source": [
    "for line in read_large_file('largeFile.text'):\n",
    "    print(line.strip())"
   ]
  }
 ],
 "metadata": {
  "kernelspec": {
   "display_name": "base",
   "language": "python",
   "name": "python3"
  },
  "language_info": {
   "codemirror_mode": {
    "name": "ipython",
    "version": 3
   },
   "file_extension": ".py",
   "mimetype": "text/x-python",
   "name": "python",
   "nbconvert_exporter": "python",
   "pygments_lexer": "ipython3",
   "version": "3.12.7"
  }
 },
 "nbformat": 4,
 "nbformat_minor": 5
}
