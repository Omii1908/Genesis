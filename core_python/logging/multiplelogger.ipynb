{
 "cells": [
  {
   "cell_type": "markdown",
   "id": "97616bec",
   "metadata": {},
   "source": [
    "### Logging with multiple Loggers"
   ]
  },
  {
   "cell_type": "code",
   "execution_count": 1,
   "id": "cd179e02",
   "metadata": {},
   "outputs": [],
   "source": [
    "import logging\n",
    "\n",
    "## create a logger for module - 1\n",
    "logger1 = logging.getLogger(\"module 1\")\n",
    "logger1.setLevel(logging.DEBUG)\n",
    "\n",
    "## create a logger for module - 2\n",
    "logger2 = logging.getLogger(\"module 2\")\n",
    "logger2.setLevel(logging.WARNING)\n",
    "\n",
    "## configure logging setting\n",
    "logging.basicConfig(\n",
    "    level=logging.DEBUG,\n",
    "    format='%(asctime)s-%(name)s-%(levelname)s-%(message)s',\n",
    "    datefmt='%Y-%m-%d %H:%M:%S'\n",
    ")\n"
   ]
  },
  {
   "cell_type": "code",
   "execution_count": 2,
   "id": "f8ea2baf",
   "metadata": {},
   "outputs": [
    {
     "name": "stderr",
     "output_type": "stream",
     "text": [
      "2025-07-26 09:07:43-module 1-DEBUG-This is a debug message for module\n",
      "2025-07-26 09:07:43-module 2-WARNING-This is a warning message for module\n",
      "2025-07-26 09:07:43-module 2-ERROR-This is a error message for module\n"
     ]
    }
   ],
   "source": [
    "## Working with different loggers\n",
    "logger1.debug('This is a debug message for module')\n",
    "logger2.warning('This is a warning message for module')\n",
    "logger2.error('This is a error message for module')"
   ]
  }
 ],
 "metadata": {
  "kernelspec": {
   "display_name": "base",
   "language": "python",
   "name": "python3"
  },
  "language_info": {
   "codemirror_mode": {
    "name": "ipython",
    "version": 3
   },
   "file_extension": ".py",
   "mimetype": "text/x-python",
   "name": "python",
   "nbconvert_exporter": "python",
   "pygments_lexer": "ipython3",
   "version": "3.12.7"
  }
 },
 "nbformat": 4,
 "nbformat_minor": 5
}
