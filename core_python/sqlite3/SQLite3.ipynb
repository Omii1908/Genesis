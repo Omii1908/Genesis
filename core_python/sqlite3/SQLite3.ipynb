{
 "cells": [
  {
   "cell_type": "code",
   "execution_count": 1,
   "id": "d1784ab6",
   "metadata": {},
   "outputs": [],
   "source": [
    "import sqlite3"
   ]
  },
  {
   "cell_type": "code",
   "execution_count": null,
   "id": "acd4604f",
   "metadata": {},
   "outputs": [
    {
     "data": {
      "text/plain": [
       "<sqlite3.Connection at 0x2253a0135b0>"
      ]
     },
     "execution_count": 2,
     "metadata": {},
     "output_type": "execute_result"
    }
   ],
   "source": [
    "## Connect to an SQLite database\n",
    "connection = sqlite3.connect('Example.db')\n",
    "connection"
   ]
  },
  {
   "cell_type": "code",
   "execution_count": 3,
   "id": "4fa9dd41",
   "metadata": {},
   "outputs": [],
   "source": [
    "## Create a cursor\n",
    "cursor = connection.cursor()"
   ]
  },
  {
   "cell_type": "code",
   "execution_count": 4,
   "id": "44cb62b2",
   "metadata": {},
   "outputs": [],
   "source": [
    "## Create the table\n",
    "cursor.execute('''\n",
    "    Create Table If Not Exists employees(\n",
    "        id Integer Primary Key,\n",
    "        name Text Not Null,\n",
    "        age Integer,\n",
    "        department text\n",
    "    )\n",
    "''')\n",
    "\n",
    "## commit the change\n",
    "connection.commit()"
   ]
  },
  {
   "cell_type": "code",
   "execution_count": 8,
   "id": "15a1110d",
   "metadata": {},
   "outputs": [
    {
     "data": {
      "text/plain": [
       "<sqlite3.Cursor at 0x2253a6c7ec0>"
      ]
     },
     "execution_count": 8,
     "metadata": {},
     "output_type": "execute_result"
    }
   ],
   "source": [
    "cursor.execute('''\n",
    "    Select * from employees\n",
    "               \n",
    "''')"
   ]
  },
  {
   "cell_type": "code",
   "execution_count": 9,
   "id": "66c0d17d",
   "metadata": {},
   "outputs": [],
   "source": [
    "## Insert the data in sqlite table\n",
    "cursor.execute('''\n",
    "    Insert into employees(name, age, department)\n",
    "               values('OM', 22, 'Data Scientist')\n",
    "''')\n",
    "\n",
    "cursor.execute('''\n",
    "    Insert into employees(name, age, department)\n",
    "               values('PRIYA', 22, 'HR')\n",
    "''')\n",
    "\n",
    "connection.commit()"
   ]
  },
  {
   "cell_type": "code",
   "execution_count": 10,
   "id": "f5766e76",
   "metadata": {},
   "outputs": [
    {
     "name": "stdout",
     "output_type": "stream",
     "text": [
      "(1, 'OM', 22, 'Data Scientist')\n",
      "(2, 'PRIYA', 22, 'HR')\n"
     ]
    }
   ],
   "source": [
    "## query the data from the table\n",
    "cursor.execute('Select * from employees')\n",
    "rows = cursor.fetchall()        ## collect all rows\n",
    "\n",
    "## print all rows\n",
    "for row in rows:\n",
    "    print(row)"
   ]
  },
  {
   "cell_type": "code",
   "execution_count": 14,
   "id": "ead6bbff",
   "metadata": {},
   "outputs": [],
   "source": [
    "## Update the data in the table\n",
    "cursor.execute('''\n",
    "    update employees\n",
    "    set age = 23\n",
    "    where name = \"OM\"               \n",
    "''')\n",
    "\n",
    "connection.commit()"
   ]
  },
  {
   "cell_type": "code",
   "execution_count": 15,
   "id": "b3930e34",
   "metadata": {},
   "outputs": [
    {
     "name": "stdout",
     "output_type": "stream",
     "text": [
      "(1, 'OM', 23, 'Data Scientist')\n",
      "(2, 'PRIYA', 22, 'HR')\n"
     ]
    }
   ],
   "source": [
    "## query the data from the table\n",
    "cursor.execute('Select * from employees')\n",
    "rows = cursor.fetchall()        ## collect all rows\n",
    "\n",
    "## print all rows\n",
    "for row in rows:\n",
    "    print(row)"
   ]
  },
  {
   "cell_type": "code",
   "execution_count": 17,
   "id": "2033eaca",
   "metadata": {},
   "outputs": [],
   "source": [
    "## delete data from table\n",
    "cursor.execute('''\n",
    "    delete from employees\n",
    "    where name = \"OM\"               \n",
    "''')\n",
    "\n",
    "connection.commit()"
   ]
  },
  {
   "cell_type": "code",
   "execution_count": 18,
   "id": "b0725410",
   "metadata": {},
   "outputs": [
    {
     "name": "stdout",
     "output_type": "stream",
     "text": [
      "(2, 'PRIYA', 22, 'HR')\n"
     ]
    }
   ],
   "source": [
    "cursor.execute('Select * from employees')\n",
    "rows = cursor.fetchall()        ## collect all rows\n",
    "\n",
    "## print all rows\n",
    "for row in rows:\n",
    "    print(row)"
   ]
  }
 ],
 "metadata": {
  "kernelspec": {
   "display_name": "base",
   "language": "python",
   "name": "python3"
  },
  "language_info": {
   "codemirror_mode": {
    "name": "ipython",
    "version": 3
   },
   "file_extension": ".py",
   "mimetype": "text/x-python",
   "name": "python",
   "nbconvert_exporter": "python",
   "pygments_lexer": "ipython3",
   "version": "3.12.7"
  }
 },
 "nbformat": 4,
 "nbformat_minor": 5
}
