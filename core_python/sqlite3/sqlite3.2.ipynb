{
 "cells": [
  {
   "cell_type": "code",
   "execution_count": 1,
   "id": "0877e13c",
   "metadata": {},
   "outputs": [],
   "source": [
    "import sqlite3\n",
    "\n",
    "connection = sqlite3.connect('Sales_data.db')\n",
    "cursor = connection.cursor()\n",
    "\n",
    "## Create the table for sales data\n",
    "cursor.execute('''\n",
    "    CREATE TABLE IF NOT EXISTS sales(\n",
    "        id INTEGER PRIMARY KEY,\n",
    "        date TEXT not null,\n",
    "        product text not null,\n",
    "        sales integer,\n",
    "        region text\n",
    "        )             \n",
    "''')\n",
    "\n",
    "## Insert data into the sales table\n",
    "sales_data = [\n",
    "    ('2023-02-01', 'Product - 1', 100, 'North'),\n",
    "    ('2023-02-02', 'Product - 2', 200, 'South'),\n",
    "    ('2023-02-03', 'Product - 3', 150, 'East'),\n",
    "    ('2023-02-04', 'Product - 4', 250, 'West'),\n",
    "    ('2023-02-05', 'Product - 5', 190, 'North-East')\n",
    "]\n",
    "\n",
    "cursor.executemany('''\n",
    "    insert into sales(date, product, sales, region)\n",
    "    values(?,?,?,?)                   \n",
    "''',sales_data)\n",
    "\n",
    "connection.commit()"
   ]
  },
  {
   "cell_type": "code",
   "execution_count": 2,
   "id": "4e2d8ae7",
   "metadata": {},
   "outputs": [
    {
     "name": "stdout",
     "output_type": "stream",
     "text": [
      "(1, '2023-02-01', 'Product - 1', 100, 'North')\n",
      "(2, '2023-02-02', 'Product - 2', 200, 'South')\n",
      "(3, '2023-02-03', 'Product - 3', 150, 'East')\n",
      "(4, '2023-02-04', 'Product - 4', 250, 'West')\n",
      "(5, '2023-02-05', 'Product - 5', 190, 'North-East')\n"
     ]
    }
   ],
   "source": [
    "## Fetch all data\n",
    "cursor.execute('select * from sales')\n",
    "rows = cursor.fetchall()\n",
    "\n",
    "## display all rows\n",
    "for row in rows:\n",
    "    print(row)"
   ]
  },
  {
   "cell_type": "code",
   "execution_count": 3,
   "id": "d6eb35c7",
   "metadata": {},
   "outputs": [],
   "source": [
    "## permently close the connection\n",
    "connection.close()"
   ]
  }
 ],
 "metadata": {
  "kernelspec": {
   "display_name": "base",
   "language": "python",
   "name": "python3"
  },
  "language_info": {
   "codemirror_mode": {
    "name": "ipython",
    "version": 3
   },
   "file_extension": ".py",
   "mimetype": "text/x-python",
   "name": "python",
   "nbconvert_exporter": "python",
   "pygments_lexer": "ipython3",
   "version": "3.12.7"
  }
 },
 "nbformat": 4,
 "nbformat_minor": 5
}
