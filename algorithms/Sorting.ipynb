{
 "cells": [
  {
   "cell_type": "markdown",
   "id": "4fcbad54",
   "metadata": {},
   "source": [
    "## Selection Sort\n",
    "- Time Complexity: O(n^2)\n",
    "- Space Complexity: O(1)"
   ]
  },
  {
   "cell_type": "code",
   "execution_count": 1,
   "id": "2ad3551a",
   "metadata": {},
   "outputs": [],
   "source": [
    "## \n",
    "def display(nums):\n",
    "    for i in nums:\n",
    "        print(i, end=' ')\n",
    "    print()\n"
   ]
  },
  {
   "cell_type": "code",
   "execution_count": 2,
   "id": "98002c8f",
   "metadata": {},
   "outputs": [
    {
     "name": "stdout",
     "output_type": "stream",
     "text": [
      "Ascending Order:\n",
      "_________________\n",
      "1 7 8 4 5 6 9 2 \n",
      "1 2 8 4 5 6 9 7 \n",
      "1 2 4 8 5 6 9 7 \n",
      "1 2 4 5 8 6 9 7 \n",
      "1 2 4 5 6 8 9 7 \n",
      "1 2 4 5 6 7 9 8 \n",
      "1 2 4 5 6 7 8 9 \n",
      "1 2 4 5 6 7 8 9 \n",
      "Descending Order:\n",
      "_________________\n",
      "9 7 8 4 1 6 5 2 \n",
      "9 8 7 4 1 6 5 2 \n",
      "9 8 7 4 1 6 5 2 \n",
      "9 8 7 6 1 4 5 2 \n",
      "9 8 7 6 5 4 1 2 \n",
      "9 8 7 6 5 4 1 2 \n",
      "9 8 7 6 5 4 2 1 \n",
      "9 8 7 6 5 4 2 1 \n"
     ]
    }
   ],
   "source": [
    "## for asc\n",
    "nums = [5,7,8,4,1,6,9,2]\n",
    "l = len(nums)\n",
    "print(\"Ascending Order:\")\n",
    "print(\"_________________\")\n",
    "for i in range(l):\n",
    "    min_index = i\n",
    "    for j in range(i+1, l):\n",
    "        if nums[j] < nums[min_index]:\n",
    "            min_index = j\n",
    "    nums[i], nums[min_index] = nums[min_index], nums[i]\n",
    "    display(nums)\n",
    "\n",
    "## for desc\n",
    "nums = [5,7,8,4,1,6,9,2]\n",
    "l = len(nums)\n",
    "print(\"Descending Order:\")\n",
    "print(\"_________________\")\n",
    "for i in range(l):\n",
    "    max_index = i\n",
    "    for j in range(i+1, l):\n",
    "        if nums[j] > nums[max_index]:\n",
    "            max_index = j\n",
    "    nums[i], nums[max_index] = nums[max_index], nums[i]\n",
    "    display(nums)\n"
   ]
  },
  {
   "cell_type": "markdown",
   "id": "e387e316",
   "metadata": {},
   "source": [
    "## Bubble Sort\n",
    "- Ajacent Swaps\n",
    "- Time Complexity: O(n^2)\n",
    "- Space Complexity: O(1)"
   ]
  },
  {
   "cell_type": "code",
   "execution_count": 3,
   "id": "207e37c5",
   "metadata": {},
   "outputs": [
    {
     "name": "stdout",
     "output_type": "stream",
     "text": [
      "Ascending Order:\n",
      "_________________\n",
      "1 7 8 5 4 6 9 2 \n",
      "1 2 8 7 5 6 9 4 \n",
      "1 2 4 8 7 6 9 5 \n",
      "1 2 4 5 8 7 9 6 \n",
      "1 2 4 5 6 8 9 7 \n",
      "1 2 4 5 6 7 9 8 \n",
      "1 2 4 5 6 7 8 9 \n",
      "1 2 4 5 6 7 8 9 \n",
      "\n",
      "\n",
      "Descending Order:\n",
      "_________________\n",
      "9 5 7 4 1 6 8 2 \n",
      "9 8 5 4 1 6 7 2 \n",
      "9 8 7 4 1 5 6 2 \n",
      "9 8 7 6 1 4 5 2 \n",
      "9 8 7 6 5 1 4 2 \n",
      "9 8 7 6 5 4 1 2 \n",
      "9 8 7 6 5 4 2 1 \n",
      "9 8 7 6 5 4 2 1 \n"
     ]
    }
   ],
   "source": [
    "nums = [5,7,8,4,1,6,9,2]\n",
    "l = len(nums)\n",
    "print(\"Ascending Order:\")\n",
    "print(\"_________________\")\n",
    "for i in range(l):\n",
    "    for j in range(i+1, l):\n",
    "        if nums[j] < nums[i]:\n",
    "            nums[i], nums[j] = nums[j], nums[i]\n",
    "    display(nums)\n",
    "\n",
    "print(\"\\n\\nDescending Order:\")\n",
    "print(\"_________________\")\n",
    "nums = [5,7,8,4,1,6,9,2]\n",
    "for i in range(l):\n",
    "    for j in range(i+1, l):\n",
    "        if nums[j] > nums[i]:\n",
    "            nums[i], nums[j] = nums[j], nums[i]\n",
    "    display(nums)"
   ]
  },
  {
   "cell_type": "markdown",
   "id": "263bc2d0",
   "metadata": {},
   "source": [
    "## Insertion Sort\n",
    "- Time Complexity: O(n^2)\n",
    "- Space Complexity: O(1)"
   ]
  },
  {
   "cell_type": "code",
   "execution_count": 4,
   "id": "8f9c55b4",
   "metadata": {},
   "outputs": [
    {
     "name": "stdout",
     "output_type": "stream",
     "text": [
      "Ascending Order:\n",
      "_________________\n",
      "5 7 8 4 1 6 9 2 \n",
      "5 7 8 4 1 6 9 2 \n",
      "5 7 8 4 1 6 9 2 \n",
      "4 5 7 8 1 6 9 2 \n",
      "1 4 5 7 8 6 9 2 \n",
      "1 4 5 6 7 8 9 2 \n",
      "1 4 5 6 7 8 9 2 \n",
      "1 2 4 5 6 7 8 9 \n",
      "\n",
      "\n",
      "Descending Order:\n",
      "_________________\n",
      "5 7 8 4 1 6 9 2 \n",
      "7 5 8 4 1 6 9 2 \n",
      "8 7 5 4 1 6 9 2 \n",
      "8 7 5 4 1 6 9 2 \n",
      "8 7 5 4 1 6 9 2 \n",
      "8 7 6 5 4 1 9 2 \n",
      "9 8 7 6 5 4 1 2 \n",
      "9 8 7 6 5 4 2 1 \n"
     ]
    }
   ],
   "source": [
    "## for asc\n",
    "nums = [5,7,8,4,1,6,9,2]\n",
    "l = len(nums)\n",
    "print(\"Ascending Order:\")\n",
    "print(\"_________________\")\n",
    "for i in range(l):\n",
    "    key = nums[i]\n",
    "    j = i - 1\n",
    "    while j >= 0 and key < nums[j]:\n",
    "        nums[j + 1] = nums[j]\n",
    "        j -= 1\n",
    "    nums[j + 1] = key\n",
    "    display(nums)\n",
    "\n",
    "## for desc\n",
    "print(\"\\n\\nDescending Order:\")\n",
    "print(\"_________________\")\n",
    "nums = [5,7,8,4,1,6,9,2]\n",
    "for i in range(l):\n",
    "    key = nums[i]\n",
    "    j = i - 1\n",
    "    while j >= 0 and key > nums[j]:\n",
    "        nums[j + 1] = nums[j]\n",
    "        j -= 1\n",
    "    nums[j + 1] = key\n",
    "    display(nums)"
   ]
  },
  {
   "cell_type": "markdown",
   "id": "688e43a1",
   "metadata": {},
   "source": [
    "## Merge Sort\n",
    "- Divide & merge\n",
    "- Time Complexity: O(n log n)\n",
    "- Space Complexity: O(n)"
   ]
  },
  {
   "cell_type": "code",
   "execution_count": null,
   "id": "bbb9648d",
   "metadata": {},
   "outputs": [
    {
     "name": "stdout",
     "output_type": "stream",
     "text": [
      "5 7 \n",
      "4 8 \n",
      "4 5 7 8 \n",
      "1 6 \n",
      "2 9 \n",
      "1 2 6 9 \n",
      "1 2 4 5 6 7 8 9 \n"
     ]
    },
    {
     "data": {
      "text/plain": [
       "[1, 2, 4, 5, 6, 7, 8, 9]"
      ]
     },
     "execution_count": 10,
     "metadata": {},
     "output_type": "execute_result"
    }
   ],
   "source": [
    "## merging 2 array\n",
    "def merge_array(left, right):\n",
    "    result = []\n",
    "    i,j,n,m = 0,0, len(left), len(right)\n",
    "    while i<n and j<m:\n",
    "        if left[i] <= right[j]:\n",
    "            result.append(left[i])\n",
    "            i+=1\n",
    "        else:\n",
    "            result.append(right[j])\n",
    "            j+=1\n",
    "\n",
    "    if i<n:\n",
    "        while i<n:\n",
    "            result.append(left[i])\n",
    "            i+=1\n",
    "\n",
    "    if j<m:\n",
    "        while j<m:\n",
    "            result.append(right[j])\n",
    "            j+=1\n",
    "\n",
    "    display(result)\n",
    "    return result\n",
    "\n",
    "## Dividing the array\n",
    "def merge_sort(arr):\n",
    "    if len(arr)<=1:\n",
    "        return arr\n",
    "\n",
    "    mid = len(arr)//2\n",
    "    left_half = merge_sort(arr[:mid])\n",
    "    right_half = merge_sort(arr[mid:])\n",
    "\n",
    "    return merge_array(left_half, right_half)\n",
    "\n",
    "nums = [5,7,8,4,1,6,9,2]\n",
    "merge_sort(nums)"
   ]
  },
  {
   "cell_type": "markdown",
   "id": "e53b4f81",
   "metadata": {},
   "source": [
    "## Quick Sort\n",
    "- Merge sort with in-place swapping\n",
    "- Time Complexity: \n",
    "    - best case: O(n log n)\n",
    "    - Average case: O(n log n)\n",
    "    - worst case: O(n^n)  Reason: when we have all number same, e.g., [5,5,5,5,5,5,5,5,5]\n",
    "- Space Complexity: O(1)\n",
    "\n",
    "### Rules:\n",
    "1. Pick the pivot\n",
    "    - can be the first element\n",
    "    - can be the last element\n",
    "    - can be the middle element\n",
    "    - can be any random element\n",
    "2. Put pivot at its correct position/index"
   ]
  },
  {
   "cell_type": "code",
   "execution_count": 12,
   "id": "3b22427d",
   "metadata": {},
   "outputs": [
    {
     "name": "stdout",
     "output_type": "stream",
     "text": [
      "4 2 1 5 8 6 9 7 \n",
      "1 2 4 5 8 6 9 7 \n",
      "1 2 4 5 8 6 9 7 \n",
      "1 2 4 5 7 6 8 9 \n",
      "1 2 4 5 6 7 8 9 \n"
     ]
    }
   ],
   "source": [
    "## partition the array in 2 region\n",
    "def partition(arr, low, high):\n",
    "    pivot = arr[low]\n",
    "    i, j = low, high\n",
    "    while i<j:\n",
    "        while arr[i]<=pivot and i<=high-1:\n",
    "            i+=1\n",
    "        while arr[j]>pivot and j>=low+1:\n",
    "            j-=1\n",
    "        if i<j:\n",
    "            arr[i], arr[j] = arr[j], arr[i]\n",
    "    arr[low], arr[j] = arr[j], arr[low]\n",
    "\n",
    "    display(arr)\n",
    "    return j\n",
    "\n",
    "\n",
    "def quick_sort(arr, low, high):\n",
    "    if low<high:\n",
    "        p_index = partition(arr, low, high)\n",
    "        quick_sort(arr, low, p_index-1)\n",
    "        quick_sort(arr, p_index+1, high)\n",
    "\n",
    "nums = [5,7,8,4,1,6,9,2]\n",
    "quick_sort(nums, 0, len(nums)-1)"
   ]
  }
 ],
 "metadata": {
  "kernelspec": {
   "display_name": "base",
   "language": "python",
   "name": "python3"
  },
  "language_info": {
   "codemirror_mode": {
    "name": "ipython",
    "version": 3
   },
   "file_extension": ".py",
   "mimetype": "text/x-python",
   "name": "python",
   "nbconvert_exporter": "python",
   "pygments_lexer": "ipython3",
   "version": "3.12.7"
  }
 },
 "nbformat": 4,
 "nbformat_minor": 5
}
