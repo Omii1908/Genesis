{
 "cells": [
  {
   "cell_type": "markdown",
   "id": "a2292bea",
   "metadata": {},
   "source": [
    "##difference b/w array and LL\n",
    "- heavy read : array\n",
    "- heavy write : LL"
   ]
  },
  {
   "cell_type": "code",
   "execution_count": 1,
   "id": "c59cbd19",
   "metadata": {},
   "outputs": [],
   "source": [
    "class Node:\n",
    "    def __init__(self, value):\n",
    "        self.data = value\n",
    "        self.next = None"
   ]
  },
  {
   "cell_type": "code",
   "execution_count": 2,
   "id": "cd7d6c34",
   "metadata": {},
   "outputs": [],
   "source": [
    "class LinkedList:\n",
    "    def __init__(self):\n",
    "        ## empty linked list\n",
    "        self.head = None\n",
    "        self.n = 0\n",
    "\n",
    "    def __len__(self):\n",
    "        print(self.n)\n",
    "        \n",
    "    #INserting data at head\n",
    "    def insert_head(self, value):\n",
    "        # new node\n",
    "        new_node = Node(value)\n",
    "\n",
    "        # create connectin\n",
    "        new_node.next = self.head\n",
    "\n",
    "        # reassign head\n",
    "        self.head = new_node\n",
    "\n",
    "        # increment n\n",
    "        self.n = self.n+1\n",
    "\n",
    "    #Inseting data at end..\n",
    "    def insert_tail(self, value):\n",
    "        new_node = Node(value)\n",
    "\n",
    "        # insert data at head node\n",
    "        if self.head == None:\n",
    "            self.head = new_node\n",
    "            self.n+=1\n",
    "            return\n",
    "        \n",
    "        # insert data at tail node\n",
    "        curr = self.head\n",
    "        while curr.next!=None:\n",
    "            curr=curr.next\n",
    "        # inserting the data\n",
    "        curr.next = new_node\n",
    "        self.n+=1\n",
    "\n",
    "    ## insertion at middle\n",
    "    def insert_middle(self, value, after):\n",
    "        curr = self.head\n",
    "\n",
    "        while curr.next!=None:\n",
    "            if curr.data == after:\n",
    "                break\n",
    "            curr = curr.next\n",
    "\n",
    "        if curr.next == None:\n",
    "            return print('\\nItem not found!!')\n",
    "        else:\n",
    "            new_node = Node(value)\n",
    "            new_node.next = curr.next\n",
    "            curr.next = new_node\n",
    "            self.n+=1\n",
    "\n",
    "    #Traversing the node..\n",
    "    def traverse(self):\n",
    "        curr = self.head\n",
    "        print()\n",
    "        while curr !=None:\n",
    "            print(' ->',curr.data, end='')\n",
    "            curr = curr.next\n",
    "\n",
    "    ## delete all nodes\n",
    "    def clear(self):\n",
    "        self.head = None\n",
    "        self.n = 0\n",
    "\n",
    "    ## delete the head\n",
    "    def clear_head(self):\n",
    "        if self.head==None:\n",
    "            return print('\\nEmpty LL!!')\n",
    "        self.head = self.head.next\n",
    "        self.n-=1\n",
    "\n",
    "    ## delete from tail\n",
    "    def clear_tail(self):\n",
    "        if self.head == None:\n",
    "            return print('\\nEmpty LL!!')\n",
    "        \n",
    "        curr = self.head\n",
    "        ##checking if we have only one node\n",
    "        if curr.next == None:\n",
    "            return self.clear_head()\n",
    "\n",
    "        while curr.next.next!=None:\n",
    "            curr = curr.next\n",
    "        \n",
    "        curr.next = None\n",
    "        self.n-=1\n",
    "\n",
    "    ## deletion from middle\n",
    "    def clear_middle(self, value):\n",
    "        # LL is empty\n",
    "        if self.head == None:\n",
    "            return print('\\nEmpty LL!!')\n",
    "        \n",
    "        # data is in head\n",
    "        if self.head.data == value:\n",
    "            return self.clear_head()\n",
    "        \n",
    "        # data is in middle\n",
    "        curr = self.head\n",
    "        while curr.next!=None:\n",
    "            if curr.next.data == value:\n",
    "                break\n",
    "            curr = curr.next\n",
    "        \n",
    "        #checking data is available or not\n",
    "        if curr.next == None:\n",
    "            return print('\\nelement not found!!')\n",
    "        else:\n",
    "            curr.next = curr.next.next"
   ]
  },
  {
   "cell_type": "code",
   "execution_count": 3,
   "id": "cdc55a9f",
   "metadata": {},
   "outputs": [
    {
     "name": "stdout",
     "output_type": "stream",
     "text": [
      "\n",
      " -> 5 -> 4 -> 3 -> 2 -> 1"
     ]
    }
   ],
   "source": [
    "ll = LinkedList()\n",
    "\n",
    "ll.insert_head(1)\n",
    "ll.insert_head(2)\n",
    "ll.insert_head(3)\n",
    "ll.insert_head(4)\n",
    "ll.insert_head(5)\n",
    "\n",
    "\n",
    "ll.traverse()\n",
    "## can't access empty linked list"
   ]
  },
  {
   "cell_type": "code",
   "execution_count": 21,
   "id": "17d8d46f",
   "metadata": {},
   "outputs": [
    {
     "name": "stdout",
     "output_type": "stream",
     "text": [
      "\n",
      " -> 1 -> 2 -> 3 -> 4 -> 5"
     ]
    }
   ],
   "source": [
    "ll = LinkedList()\n",
    "\n",
    "ll.insert_tail(1)\n",
    "ll.insert_tail(2)\n",
    "ll.insert_tail(3)\n",
    "ll.insert_tail(4)\n",
    "ll.insert_tail(5)\n",
    "\n",
    "ll.traverse()"
   ]
  },
  {
   "cell_type": "code",
   "execution_count": 5,
   "id": "548078b9",
   "metadata": {},
   "outputs": [
    {
     "name": "stdout",
     "output_type": "stream",
     "text": [
      "\n",
      " -> 1 -> 2 -> 3 -> 4 -> 5\n",
      " -> 1 -> 10 -> 2 -> 3 -> 4 -> 5\n",
      " -> 1 -> 10 -> 2 -> 3 -> 4 -> 20 -> 5\n",
      "Item not found!!\n",
      "\n",
      " -> 1 -> 10 -> 2 -> 3 -> 4 -> 20 -> 5"
     ]
    }
   ],
   "source": [
    "ll.traverse()\n",
    "ll.insert_middle(10,1)\n",
    "ll.traverse()\n",
    "ll.insert_middle(20,4)\n",
    "ll.traverse()\n",
    "ll.insert_middle(30,7)\n",
    "ll.traverse()"
   ]
  },
  {
   "cell_type": "code",
   "execution_count": 10,
   "id": "590ab045",
   "metadata": {},
   "outputs": [
    {
     "name": "stdout",
     "output_type": "stream",
     "text": [
      "\n",
      " -> 1 -> 2 -> 3 -> 4 -> 5\n"
     ]
    }
   ],
   "source": [
    "ll.traverse()\n",
    "ll.clear()\n",
    "ll.traverse()"
   ]
  },
  {
   "cell_type": "code",
   "execution_count": 12,
   "id": "ad04952d",
   "metadata": {},
   "outputs": [
    {
     "name": "stdout",
     "output_type": "stream",
     "text": [
      "\n",
      " -> 1 -> 2 -> 3 -> 4 -> 5\n",
      " -> 2 -> 3 -> 4 -> 5\n",
      " -> 3 -> 4 -> 5\n",
      " -> 4 -> 5\n",
      " -> 5\n",
      "\n",
      "Empty LL!!\n",
      "\n"
     ]
    }
   ],
   "source": [
    "ll.traverse()\n",
    "ll.clear_head()\n",
    "ll.traverse()\n",
    "ll.clear_head()\n",
    "ll.traverse()\n",
    "ll.clear_head()\n",
    "ll.traverse()\n",
    "ll.clear_head()\n",
    "ll.traverse()\n",
    "ll.clear_head()\n",
    "ll.traverse()\n",
    "ll.clear_head()\n",
    "ll.traverse()"
   ]
  },
  {
   "cell_type": "code",
   "execution_count": 16,
   "id": "ea82d278",
   "metadata": {},
   "outputs": [
    {
     "name": "stdout",
     "output_type": "stream",
     "text": [
      "\n",
      " -> 1 -> 2 -> 3 -> 4 -> 5\n",
      " -> 1 -> 2 -> 3 -> 4\n",
      " -> 1 -> 2 -> 3\n",
      " -> 1 -> 2\n",
      " -> 1\n",
      "\n",
      "Empty LL!!\n",
      "\n"
     ]
    }
   ],
   "source": [
    "ll.traverse()\n",
    "ll.clear_tail()\n",
    "ll.traverse()\n",
    "ll.clear_tail()\n",
    "ll.traverse()\n",
    "ll.clear_tail()\n",
    "ll.traverse()\n",
    "ll.clear_tail()\n",
    "ll.traverse()\n",
    "ll.clear_tail()\n",
    "ll.traverse()\n",
    "ll.clear_tail()\n",
    "ll.traverse()"
   ]
  },
  {
   "cell_type": "code",
   "execution_count": 22,
   "id": "cef347bc",
   "metadata": {},
   "outputs": [
    {
     "name": "stdout",
     "output_type": "stream",
     "text": [
      "\n",
      " -> 1 -> 2 -> 3 -> 4 -> 5\n",
      "element not found!!\n",
      "\n",
      " -> 1 -> 2 -> 3 -> 4 -> 5\n",
      " -> 1 -> 2 -> 3 -> 5\n",
      " -> 1 -> 2 -> 5\n",
      " -> 1 -> 5\n",
      " -> 5\n",
      "\n",
      "Empty LL!!\n",
      "\n"
     ]
    }
   ],
   "source": [
    "ll.traverse()\n",
    "ll.clear_middle(6)\n",
    "ll.traverse()\n",
    "ll.clear_middle(4)\n",
    "ll.traverse()\n",
    "ll.clear_middle(3)\n",
    "ll.traverse()\n",
    "ll.clear_middle(2)\n",
    "ll.traverse()\n",
    "ll.clear_middle(1)\n",
    "ll.traverse()\n",
    "ll.clear_middle(5)\n",
    "ll.traverse()\n",
    "ll.clear_middle(1)\n",
    "ll.traverse()"
   ]
  }
 ],
 "metadata": {
  "kernelspec": {
   "display_name": "base",
   "language": "python",
   "name": "python3"
  },
  "language_info": {
   "codemirror_mode": {
    "name": "ipython",
    "version": 3
   },
   "file_extension": ".py",
   "mimetype": "text/x-python",
   "name": "python",
   "nbconvert_exporter": "python",
   "pygments_lexer": "ipython3",
   "version": "3.12.7"
  }
 },
 "nbformat": 4,
 "nbformat_minor": 5
}
