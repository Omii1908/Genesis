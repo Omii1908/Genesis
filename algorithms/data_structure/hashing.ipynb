{
 "cells": [
  {
   "cell_type": "markdown",
   "id": "c05e0d29",
   "metadata": {},
   "source": [
    "## Hashing\n",
    "- can be implement through set/list/dictionary."
   ]
  },
  {
   "cell_type": "code",
   "execution_count": 7,
   "id": "df0ba6dc",
   "metadata": {},
   "outputs": [
    {
     "name": "stdout",
     "output_type": "stream",
     "text": [
      "10  ->  1 \n",
      "111  -> Not Found \n",
      "1  ->  1 \n",
      "9  ->  0 \n",
      "5  ->  4 \n",
      "67  -> Not Found \n",
      "2  ->  3 \n"
     ]
    }
   ],
   "source": [
    "## using list(when number is small) as hash table\n",
    "n = [5,3,2,2,2,1,5,5,7,5,10]\n",
    "m = [10,111,1,9,5,67,2]\n",
    "\n",
    "hash_list  = [0] * 11\n",
    "\n",
    "for i in n:\n",
    "    hash_list[i] += 1\n",
    "\n",
    "for i in m:\n",
    "    if i<1 or i>10:\n",
    "        print(i,' -> Not Found', end = ' ')\n",
    "    else:\n",
    "        print(i,' -> ',hash_list[i], end = ' ')\n",
    "    print()"
   ]
  },
  {
   "cell_type": "code",
   "execution_count": 9,
   "id": "a8851a23",
   "metadata": {},
   "outputs": [
    {
     "name": "stdout",
     "output_type": "stream",
     "text": [
      "10  ->  1 \n",
      "111  -> Not Found \n",
      "1  ->  1 \n",
      "9  -> Not Found \n",
      "5  ->  4 \n",
      "67  -> Not Found \n",
      "2  ->  3 \n"
     ]
    }
   ],
   "source": [
    "## using dict as hash table\n",
    "n = [5,3,2,2,2,1,5,5,7,5,10]\n",
    "m = [10,111,1,9,5,67,2]\n",
    "hash_dict = {}\n",
    "\n",
    "for i in n:\n",
    "    if i in hash_dict:\n",
    "        hash_dict[i] += 1\n",
    "    else:\n",
    "        hash_dict[i] = 1\n",
    "\n",
    "for i in m:\n",
    "    if i not in hash_dict:\n",
    "        print(i, ' -> Not Found', end=' ')\n",
    "    else:\n",
    "        print(i, ' -> ', hash_dict[i], end=' ')\n",
    "    print()\n"
   ]
  },
  {
   "cell_type": "code",
   "execution_count": 12,
   "id": "e318f9a8",
   "metadata": {},
   "outputs": [
    {
     "name": "stdout",
     "output_type": "stream",
     "text": [
      "n  ->  4 \n",
      "k  ->  3 \n",
      "f  ->  3 \n",
      "p  -> Not Found \n",
      "a  ->  1 \n",
      "b  ->  6 \n",
      "j  ->  1 \n",
      "s  ->  1 \n",
      "m  ->  1 \n",
      "c  ->  1 \n"
     ]
    }
   ],
   "source": [
    "s = 'nknknffabkfbbbbbjsmnc'\n",
    "q = ['n', 'k', 'f', 'p','a', 'b', 'j', 's', 'm', 'c']\n",
    "\n",
    "hash_dict = {}\n",
    "for i in s:\n",
    "    if i in hash_dict:\n",
    "        hash_dict[i] += 1\n",
    "    else:\n",
    "        hash_dict[i] = 1\n",
    "\n",
    "for i in q:\n",
    "    if i not in hash_dict:\n",
    "        print(i, ' -> Not Found', end=' ')\n",
    "    else:\n",
    "        print(i, ' -> ', hash_dict[i], end=' ')\n",
    "    print() \n"
   ]
  },
  {
   "cell_type": "code",
   "execution_count": null,
   "metadata": {},
   "outputs": [],
   "source": []
  }
 ],
 "metadata": {
  "kernelspec": {
   "display_name": "base",
   "language": "python",
   "name": "python3"
  },
  "language_info": {
   "codemirror_mode": {
    "name": "ipython",
    "version": 3
   },
   "file_extension": ".py",
   "mimetype": "text/x-python",
   "name": "python",
   "nbconvert_exporter": "python",
   "pygments_lexer": "ipython3",
   "version": "3.12.7"
  }
 },
 "nbformat": 4,
 "nbformat_minor": 5
}
